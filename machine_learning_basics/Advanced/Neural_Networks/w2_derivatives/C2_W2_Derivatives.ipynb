{
 "cells": [
  {
   "cell_type": "markdown",
   "metadata": {
    "tags": []
   },
   "source": [
    "# Optional Lab - Derivatives\n",
    "This lab will give you a more intuitive understanding of derivatives. It will show you a simple way of calculating derivatives arithmetically. It will also introduce you to a handy Python library that allows you to calculate derivatives symbolically."
   ]
  },
  {
   "cell_type": "code",
   "execution_count": 16,
   "id": "0beb0b61",
   "metadata": {},
   "outputs": [],
   "source": [
    "from sympy import symbols, diff, log , Pow, Transpose,MatrixSymbol, exp, Rational "
   ]
  },
  {
   "cell_type": "markdown",
   "metadata": {},
   "source": [
    "## Informal definition of derivatives"
   ]
  },
  {
   "cell_type": "markdown",
   "metadata": {},
   "source": [
    "The formal definition of derivatives can be a bit daunting with limits and values 'going to zero'. The idea is really much simpler. \n",
    "\n",
    "The derivative of a function describes how the output of a function changes when there is a small change in an input variable.\n",
    "\n",
    "Let's use the cost function $J(w)$ as an example. The cost $J$ is the output and $w$ is the input variable.  \n",
    "Let's give a 'small change' a name *epsilon* or $\\epsilon$. We use these Greek letters because it is traditional in mathematics to use *epsilon*($\\epsilon$) or *delta* ($\\Delta$) to represent a small value. You can think of it as representing 0.001 or some other small value.  \n",
    "\n",
    "$$\n",
    "\\begin{equation}\n",
    "\\text{if } w \\uparrow \\epsilon \\text{ causes }J(w) \\uparrow \\text{by }k \\times \\epsilon \\text{ then}  \\\\\n",
    "\\frac{\\partial J(w)}{\\partial w} = k \\tag{1}\n",
    "\\end{equation}\n",
    "$$\n",
    "\n",
    "This just says if you change the input to the function $J(w)$ by a little bit and the output changes by $k$ times that little bit, then the derivative of $J(w)$ is equal to $k$.\n",
    "\n",
    "Let's try this out.  Let's look at the derivative of the function $J(w) = w^2$ at the point $w=3$ and $\\epsilon = 0.001$"
   ]
  },
  {
   "cell_type": "code",
   "execution_count": 3,
   "id": "e516cf19",
   "metadata": {},
   "outputs": [
    {
     "name": "stdout",
     "output_type": "stream",
     "text": [
      "J = 9, J_epsilon = 9.006001, dJ_dw ~= k = 6.001000 \n"
     ]
    }
   ],
   "source": [
    "J = (3)**2\n",
    "J_epsilon = (3 + 0.001)**2\n",
    "k = (J_epsilon - J)/0.001    # difference divided by epsilon\n",
    "print(f\"J = {J}, J_epsilon = {J_epsilon}, dJ_dw ~= k = {k:0.6f} \")"
   ]
  },
  {
   "cell_type": "markdown",
   "metadata": {},
   "source": [
    "We have increased the input value a little bit (0.001), causing the output to change from 9 to 9.006001, an increase of 6 times the input increase. Referencing (1) above, this says that $k=6$, so $\\frac{\\partial J(w)}{\\partial w} \\approx 6$. If you are familiar with calculus, you know, written symbolically,  $\\frac{\\partial J(w)}{\\partial w} = 2 w$. With $w=3$ this is 6. Our calculation above is not exactly 6 because to be exactly correct $\\epsilon$ would need to be [infinitesimally small](https://www.dictionary.com/browse/infinitesimally) or really, really small. That is why we use the symbols $\\approx$ or ~= rather than =. Let's see what happens if we make $\\epsilon$ smaller."
   ]
  },
  {
   "cell_type": "code",
   "execution_count": 4,
   "id": "d6a75238",
   "metadata": {},
   "outputs": [
    {
     "name": "stdout",
     "output_type": "stream",
     "text": [
      "J = 9, J_epsilon = 9.000000006, dJ_dw ~= k = 6.000000496442226 \n"
     ]
    }
   ],
   "source": [
    "J = (3)**2\n",
    "J_epsilon = (3 + 0.000000001)**2\n",
    "k = (J_epsilon - J)/0.000000001\n",
    "print(f\"J = {J}, J_epsilon = {J_epsilon}, dJ_dw ~= k = {k} \")"
   ]
  },
  {
   "cell_type": "markdown",
   "metadata": {},
   "source": [
    "The value gets close to exactly 6 as we reduce the size of $\\epsilon$. Feel free to try reducing the value further."
   ]
  },
  {
   "cell_type": "markdown",
   "metadata": {},
   "source": [
    "## Finding symbolic derivatives\n",
    "In backprop it is useful to know the derivative of simple functions at any input value. Put another way, we would like to know the 'symbolic' derivative rather than the 'arithmetic' derivative. An example of a symbolic derivative is,  $\\frac{\\partial J(w)}{\\partial w} = 2 w$, the derivative of $J(w) = w^2$ above.  With the symbolic derivative you can find the value of the derivative at any input value $w$.  \n",
    "\n",
    "If you have taken a calculus course, you are familiar with the many [differentiation rules](https://en.wikipedia.org/wiki/Differentiation_rules#Power_laws,_polynomials,_quotients,_and_reciprocals) that mathematicians have developed to solve for a derivative given an expression. Well, it turns out this process has been automated with symbolic differentiation programs. An example of this in python is the [SymPy](https://www.sympy.org/en/index.html) library. Let's take a look at how to use this."
   ]
  },
  {
   "cell_type": "markdown",
   "metadata": {},
   "source": [
    "### $J = w^2$\n",
    "Define the python variables and their symbolic names."
   ]
  },
  {
   "cell_type": "code",
   "execution_count": 5,
   "id": "2fc93fef",
   "metadata": {},
   "outputs": [],
   "source": [
    "J, w = symbols('J, w')"
   ]
  },
  {
   "cell_type": "markdown",
   "id": "65622a29",
   "metadata": {},
   "source": [
    "Define and print the expression. Note SymPy produces a [latex](https://en.wikibooks.org/wiki/LaTeX/Mathematics) string which generates a nicely readable equation."
   ]
  },
  {
   "cell_type": "code",
   "execution_count": 6,
   "id": "e4e0f9da",
   "metadata": {},
   "outputs": [
    {
     "data": {
      "text/latex": [
       "$\\displaystyle w^{2}$"
      ],
      "text/plain": [
       "w**2"
      ]
     },
     "execution_count": 6,
     "metadata": {},
     "output_type": "execute_result"
    }
   ],
   "source": [
    "J=w**2\n",
    "J"
   ]
  },
  {
   "cell_type": "markdown",
   "metadata": {},
   "source": [
    "Use SymPy's `diff` to differentiate the expression for $J$ with respect to $w$. Note the result matches our earlier example."
   ]
  },
  {
   "cell_type": "code",
   "execution_count": 7,
   "id": "19eae890",
   "metadata": {},
   "outputs": [
    {
     "data": {
      "text/latex": [
       "$\\displaystyle 2 w$"
      ],
      "text/plain": [
       "2*w"
      ]
     },
     "execution_count": 7,
     "metadata": {},
     "output_type": "execute_result"
    }
   ],
   "source": [
    "dJ_dw = diff(J,w)\n",
    "dJ_dw"
   ]
  },
  {
   "cell_type": "code",
   "execution_count": 4,
   "id": "6266274b",
   "metadata": {},
   "outputs": [
    {
     "name": "stdout",
     "output_type": "stream",
     "text": [
      "dL/da = (1 - y)/(1 - a) - y/a\n",
      "dL/dZ = ((1 - y)/(1 - a) - y/a)*exp(-Z)/(1 + exp(-Z))**2\n"
     ]
    }
   ],
   "source": [
    "from sympy import symbols, MatrixSymbol, Transpose, diff, log, exp, Rational\n",
    "\n",
    "# Declare matrix symbols\n",
    "W = MatrixSymbol('W', 3, 3)  # Assume 3x3 matrix for demonstration\n",
    "X = MatrixSymbol('X', 3, 1)  # Assume 3x1 matrix (column vector)\n",
    "b = MatrixSymbol('b', 3, 1)  # Assume 3x1 matrix (column vector)\n",
    "\n",
    "# Declare other symbols\n",
    "y, a, L, Z = symbols('y a L Z')\n",
    "\n",
    "# Define the loss function L\n",
    "L = (-y * log(a)) - ((1 - y) * log(1 - a))\n",
    "\n",
    "# Differentiate L with respect to a\n",
    "dL_da = diff(L, a)\n",
    "\n",
    "# Define the activation function a\n",
    "a_expr = Rational(1, 1) / (1 + exp(-Z))\n",
    "\n",
    "# Differentiate a with respect to Z\n",
    "da_dZ = diff(a_expr, Z)\n",
    "\n",
    "# Using chain rule, dL/dZ = dL/da * da/dZ\n",
    "dL_dZ = dL_da * da_dZ\n",
    "\n",
    "print(\"dL/da =\", dL_da)\n",
    "print(\"dL/dZ =\", dL_dZ)\n"
   ]
  },
  {
   "cell_type": "code",
   "execution_count": 10,
   "id": "f41747f6",
   "metadata": {},
   "outputs": [
    {
     "ename": "ValueError",
     "evalue": "\nCan't calculate derivative wrt 1/(exp(-b - w1*x1 - w2*x2 - w3*x3) +\n1).",
     "output_type": "error",
     "traceback": [
      "\u001b[0;31m---------------------------------------------------------------------------\u001b[0m",
      "\u001b[0;31mValueError\u001b[0m                                Traceback (most recent call last)",
      "Cell \u001b[0;32mIn[10], line 18\u001b[0m\n\u001b[1;32m     15\u001b[0m L \u001b[39m=\u001b[39m \u001b[39m-\u001b[39my \u001b[39m*\u001b[39m log(a) \u001b[39m-\u001b[39m (\u001b[39m1\u001b[39m \u001b[39m-\u001b[39m y) \u001b[39m*\u001b[39m log(\u001b[39m1\u001b[39m \u001b[39m-\u001b[39m a)  \u001b[39m# Binary Cross-Entropy Loss\u001b[39;00m\n\u001b[1;32m     17\u001b[0m \u001b[39m# Differentiate L with respect to a\u001b[39;00m\n\u001b[0;32m---> 18\u001b[0m dL_da \u001b[39m=\u001b[39m diff(L, a)\n\u001b[1;32m     20\u001b[0m \u001b[39m# Differentiate L with respect to Z\u001b[39;00m\n\u001b[1;32m     21\u001b[0m dL_dZ \u001b[39m=\u001b[39m diff(L\u001b[39m.\u001b[39msubs(a, \u001b[39m1\u001b[39m \u001b[39m/\u001b[39m (\u001b[39m1\u001b[39m \u001b[39m+\u001b[39m exp(\u001b[39m-\u001b[39mZ))), Z)\n",
      "File \u001b[0;32m~/anaconda3/envs/sandbox/lib/python3.9/site-packages/sympy/core/function.py:2482\u001b[0m, in \u001b[0;36mdiff\u001b[0;34m(f, *symbols, **kwargs)\u001b[0m\n\u001b[1;32m   2418\u001b[0m \u001b[39m\u001b[39m\u001b[39m\"\"\"\u001b[39;00m\n\u001b[1;32m   2419\u001b[0m \u001b[39mDifferentiate f with respect to symbols.\u001b[39;00m\n\u001b[1;32m   2420\u001b[0m \n\u001b[0;32m   (...)\u001b[0m\n\u001b[1;32m   2479\u001b[0m \n\u001b[1;32m   2480\u001b[0m \u001b[39m\"\"\"\u001b[39;00m\n\u001b[1;32m   2481\u001b[0m \u001b[39mif\u001b[39;00m \u001b[39mhasattr\u001b[39m(f, \u001b[39m'\u001b[39m\u001b[39mdiff\u001b[39m\u001b[39m'\u001b[39m):\n\u001b[0;32m-> 2482\u001b[0m     \u001b[39mreturn\u001b[39;00m f\u001b[39m.\u001b[39;49mdiff(\u001b[39m*\u001b[39;49msymbols, \u001b[39m*\u001b[39;49m\u001b[39m*\u001b[39;49mkwargs)\n\u001b[1;32m   2483\u001b[0m kwargs\u001b[39m.\u001b[39msetdefault(\u001b[39m'\u001b[39m\u001b[39mevaluate\u001b[39m\u001b[39m'\u001b[39m, \u001b[39mTrue\u001b[39;00m)\n\u001b[1;32m   2484\u001b[0m \u001b[39mreturn\u001b[39;00m _derivative_dispatch(f, \u001b[39m*\u001b[39msymbols, \u001b[39m*\u001b[39m\u001b[39m*\u001b[39mkwargs)\n",
      "File \u001b[0;32m~/anaconda3/envs/sandbox/lib/python3.9/site-packages/sympy/core/expr.py:3586\u001b[0m, in \u001b[0;36mExpr.diff\u001b[0;34m(self, *symbols, **assumptions)\u001b[0m\n\u001b[1;32m   3584\u001b[0m \u001b[39mdef\u001b[39;00m \u001b[39mdiff\u001b[39m(\u001b[39mself\u001b[39m, \u001b[39m*\u001b[39msymbols, \u001b[39m*\u001b[39m\u001b[39m*\u001b[39massumptions):\n\u001b[1;32m   3585\u001b[0m     assumptions\u001b[39m.\u001b[39msetdefault(\u001b[39m\"\u001b[39m\u001b[39mevaluate\u001b[39m\u001b[39m\"\u001b[39m, \u001b[39mTrue\u001b[39;00m)\n\u001b[0;32m-> 3586\u001b[0m     \u001b[39mreturn\u001b[39;00m _derivative_dispatch(\u001b[39mself\u001b[39;49m, \u001b[39m*\u001b[39;49msymbols, \u001b[39m*\u001b[39;49m\u001b[39m*\u001b[39;49massumptions)\n",
      "File \u001b[0;32m~/anaconda3/envs/sandbox/lib/python3.9/site-packages/sympy/core/function.py:1909\u001b[0m, in \u001b[0;36m_derivative_dispatch\u001b[0;34m(expr, *variables, **kwargs)\u001b[0m\n\u001b[1;32m   1907\u001b[0m     \u001b[39mfrom\u001b[39;00m \u001b[39msympy\u001b[39;00m\u001b[39m.\u001b[39;00m\u001b[39mtensor\u001b[39;00m\u001b[39m.\u001b[39;00m\u001b[39marray\u001b[39;00m\u001b[39m.\u001b[39;00m\u001b[39marray_derivatives\u001b[39;00m \u001b[39mimport\u001b[39;00m ArrayDerivative\n\u001b[1;32m   1908\u001b[0m     \u001b[39mreturn\u001b[39;00m ArrayDerivative(expr, \u001b[39m*\u001b[39mvariables, \u001b[39m*\u001b[39m\u001b[39m*\u001b[39mkwargs)\n\u001b[0;32m-> 1909\u001b[0m \u001b[39mreturn\u001b[39;00m Derivative(expr, \u001b[39m*\u001b[39;49mvariables, \u001b[39m*\u001b[39;49m\u001b[39m*\u001b[39;49mkwargs)\n",
      "File \u001b[0;32m~/anaconda3/envs/sandbox/lib/python3.9/site-packages/sympy/core/function.py:1334\u001b[0m, in \u001b[0;36mDerivative.__new__\u001b[0;34m(cls, expr, *variables, **kwargs)\u001b[0m\n\u001b[1;32m   1332\u001b[0m     \u001b[39mif\u001b[39;00m \u001b[39mnot\u001b[39;00m v\u001b[39m.\u001b[39m_diff_wrt:\n\u001b[1;32m   1333\u001b[0m         __ \u001b[39m=\u001b[39m \u001b[39m'\u001b[39m\u001b[39m'\u001b[39m  \u001b[39m# filler to make error message neater\u001b[39;00m\n\u001b[0;32m-> 1334\u001b[0m         \u001b[39mraise\u001b[39;00m \u001b[39mValueError\u001b[39;00m(filldedent(\u001b[39m'''\u001b[39m\n\u001b[1;32m   1335\u001b[0m \u001b[39m            Can\u001b[39m\u001b[39m'\u001b[39m\u001b[39mt calculate derivative wrt \u001b[39m\u001b[39m%s\u001b[39;00m\u001b[39m.\u001b[39m\u001b[39m%s\u001b[39;00m\u001b[39m'''\u001b[39m \u001b[39m%\u001b[39m (v,\n\u001b[1;32m   1336\u001b[0m             __)))\n\u001b[1;32m   1338\u001b[0m \u001b[39m# We make a special case for 0th derivative, because there is no\u001b[39;00m\n\u001b[1;32m   1339\u001b[0m \u001b[39m# good way to unambiguously print this.\u001b[39;00m\n\u001b[1;32m   1340\u001b[0m \u001b[39mif\u001b[39;00m \u001b[39mlen\u001b[39m(variable_count) \u001b[39m==\u001b[39m \u001b[39m0\u001b[39m:\n",
      "\u001b[0;31mValueError\u001b[0m: \nCan't calculate derivative wrt 1/(exp(-b - w1*x1 - w2*x2 - w3*x3) +\n1)."
     ]
    }
   ],
   "source": [
    "from sympy import symbols, diff, log, exp, Matrix\n",
    "\n",
    "# Define symbols\n",
    "w1, w2, w3 = symbols('w1 w2 w3')\n",
    "x1, x2, x3 = symbols('x1 x2 x3')\n",
    "b, y, a, Z, L = symbols('b y a Z L')\n",
    "\n",
    "# Form the weight and data vectors\n",
    "w = Matrix([w1, w2, w3])\n",
    "X = Matrix([x1, x2, x3])\n",
    "\n",
    "# Define equations\n",
    "Z = w.dot(X) + b  # Z = w^T * X + b\n",
    "a = 1 / (1 + exp(-Z))  # Sigmoid function\n",
    "L = -y * log(a) - (1 - y) * log(1 - a)  # Binary Cross-Entropy Loss\n",
    "\n",
    "# Differentiate L with respect to a\n",
    "dL_da = diff(L, a)\n",
    "\n",
    "# Differentiate L with respect to Z\n",
    "dL_dZ = diff(L.subs(a, 1 / (1 + exp(-Z))), Z)\n",
    "\n",
    "# Differentiate Z with respect to w and b\n",
    "dZ_dw = [diff(Z, wi) for wi in [w1, w2, w3]]\n",
    "\n",
    "# Gradient with respect to w and b\n",
    "dw = [dwi * dL_dZ for dwi in dZ_dw]  # Chain rule applied to each element\n",
    "db = diff(Z, b) * dL_dZ  # Chain rule\n",
    "\n",
    "print(f'dw: {dw}')\n",
    "print(f'db: {db}')\n"
   ]
  },
  {
   "cell_type": "code",
   "execution_count": 4,
   "id": "14b532e5",
   "metadata": {},
   "outputs": [
    {
     "ename": "ValueError",
     "evalue": "\nCan't calculate derivative wrt 1/(exp(-b - w1*x1 - w2*x2 - w3*x3) +\n1).",
     "output_type": "error",
     "traceback": [
      "\u001b[0;31m---------------------------------------------------------------------------\u001b[0m",
      "\u001b[0;31mValueError\u001b[0m                                Traceback (most recent call last)",
      "Cell \u001b[0;32mIn[4], line 16\u001b[0m\n\u001b[1;32m     13\u001b[0m a \u001b[39m=\u001b[39m \u001b[39m1\u001b[39m \u001b[39m/\u001b[39m (\u001b[39m1\u001b[39m \u001b[39m+\u001b[39m exp(\u001b[39m-\u001b[39mZ))\n\u001b[1;32m     15\u001b[0m \u001b[39m# Differentiate L with respect to a\u001b[39;00m\n\u001b[0;32m---> 16\u001b[0m dL_da \u001b[39m=\u001b[39m diff(L, a)\n\u001b[1;32m     18\u001b[0m \u001b[39m# Differentiate a in terms of Z (Derivative of Sigmoid)\u001b[39;00m\n\u001b[1;32m     19\u001b[0m da_dZ \u001b[39m=\u001b[39m diff(a, Z)\n",
      "File \u001b[0;32m~/anaconda3/envs/sandbox/lib/python3.9/site-packages/sympy/core/function.py:2482\u001b[0m, in \u001b[0;36mdiff\u001b[0;34m(f, *symbols, **kwargs)\u001b[0m\n\u001b[1;32m   2418\u001b[0m \u001b[39m\u001b[39m\u001b[39m\"\"\"\u001b[39;00m\n\u001b[1;32m   2419\u001b[0m \u001b[39mDifferentiate f with respect to symbols.\u001b[39;00m\n\u001b[1;32m   2420\u001b[0m \n\u001b[0;32m   (...)\u001b[0m\n\u001b[1;32m   2479\u001b[0m \n\u001b[1;32m   2480\u001b[0m \u001b[39m\"\"\"\u001b[39;00m\n\u001b[1;32m   2481\u001b[0m \u001b[39mif\u001b[39;00m \u001b[39mhasattr\u001b[39m(f, \u001b[39m'\u001b[39m\u001b[39mdiff\u001b[39m\u001b[39m'\u001b[39m):\n\u001b[0;32m-> 2482\u001b[0m     \u001b[39mreturn\u001b[39;00m f\u001b[39m.\u001b[39;49mdiff(\u001b[39m*\u001b[39;49msymbols, \u001b[39m*\u001b[39;49m\u001b[39m*\u001b[39;49mkwargs)\n\u001b[1;32m   2483\u001b[0m kwargs\u001b[39m.\u001b[39msetdefault(\u001b[39m'\u001b[39m\u001b[39mevaluate\u001b[39m\u001b[39m'\u001b[39m, \u001b[39mTrue\u001b[39;00m)\n\u001b[1;32m   2484\u001b[0m \u001b[39mreturn\u001b[39;00m _derivative_dispatch(f, \u001b[39m*\u001b[39msymbols, \u001b[39m*\u001b[39m\u001b[39m*\u001b[39mkwargs)\n",
      "File \u001b[0;32m~/anaconda3/envs/sandbox/lib/python3.9/site-packages/sympy/core/expr.py:3586\u001b[0m, in \u001b[0;36mExpr.diff\u001b[0;34m(self, *symbols, **assumptions)\u001b[0m\n\u001b[1;32m   3584\u001b[0m \u001b[39mdef\u001b[39;00m \u001b[39mdiff\u001b[39m(\u001b[39mself\u001b[39m, \u001b[39m*\u001b[39msymbols, \u001b[39m*\u001b[39m\u001b[39m*\u001b[39massumptions):\n\u001b[1;32m   3585\u001b[0m     assumptions\u001b[39m.\u001b[39msetdefault(\u001b[39m\"\u001b[39m\u001b[39mevaluate\u001b[39m\u001b[39m\"\u001b[39m, \u001b[39mTrue\u001b[39;00m)\n\u001b[0;32m-> 3586\u001b[0m     \u001b[39mreturn\u001b[39;00m _derivative_dispatch(\u001b[39mself\u001b[39;49m, \u001b[39m*\u001b[39;49msymbols, \u001b[39m*\u001b[39;49m\u001b[39m*\u001b[39;49massumptions)\n",
      "File \u001b[0;32m~/anaconda3/envs/sandbox/lib/python3.9/site-packages/sympy/core/function.py:1909\u001b[0m, in \u001b[0;36m_derivative_dispatch\u001b[0;34m(expr, *variables, **kwargs)\u001b[0m\n\u001b[1;32m   1907\u001b[0m     \u001b[39mfrom\u001b[39;00m \u001b[39msympy\u001b[39;00m\u001b[39m.\u001b[39;00m\u001b[39mtensor\u001b[39;00m\u001b[39m.\u001b[39;00m\u001b[39marray\u001b[39;00m\u001b[39m.\u001b[39;00m\u001b[39marray_derivatives\u001b[39;00m \u001b[39mimport\u001b[39;00m ArrayDerivative\n\u001b[1;32m   1908\u001b[0m     \u001b[39mreturn\u001b[39;00m ArrayDerivative(expr, \u001b[39m*\u001b[39mvariables, \u001b[39m*\u001b[39m\u001b[39m*\u001b[39mkwargs)\n\u001b[0;32m-> 1909\u001b[0m \u001b[39mreturn\u001b[39;00m Derivative(expr, \u001b[39m*\u001b[39;49mvariables, \u001b[39m*\u001b[39;49m\u001b[39m*\u001b[39;49mkwargs)\n",
      "File \u001b[0;32m~/anaconda3/envs/sandbox/lib/python3.9/site-packages/sympy/core/function.py:1334\u001b[0m, in \u001b[0;36mDerivative.__new__\u001b[0;34m(cls, expr, *variables, **kwargs)\u001b[0m\n\u001b[1;32m   1332\u001b[0m     \u001b[39mif\u001b[39;00m \u001b[39mnot\u001b[39;00m v\u001b[39m.\u001b[39m_diff_wrt:\n\u001b[1;32m   1333\u001b[0m         __ \u001b[39m=\u001b[39m \u001b[39m'\u001b[39m\u001b[39m'\u001b[39m  \u001b[39m# filler to make error message neater\u001b[39;00m\n\u001b[0;32m-> 1334\u001b[0m         \u001b[39mraise\u001b[39;00m \u001b[39mValueError\u001b[39;00m(filldedent(\u001b[39m'''\u001b[39m\n\u001b[1;32m   1335\u001b[0m \u001b[39m            Can\u001b[39m\u001b[39m'\u001b[39m\u001b[39mt calculate derivative wrt \u001b[39m\u001b[39m%s\u001b[39;00m\u001b[39m.\u001b[39m\u001b[39m%s\u001b[39;00m\u001b[39m'''\u001b[39m \u001b[39m%\u001b[39m (v,\n\u001b[1;32m   1336\u001b[0m             __)))\n\u001b[1;32m   1338\u001b[0m \u001b[39m# We make a special case for 0th derivative, because there is no\u001b[39;00m\n\u001b[1;32m   1339\u001b[0m \u001b[39m# good way to unambiguously print this.\u001b[39;00m\n\u001b[1;32m   1340\u001b[0m \u001b[39mif\u001b[39;00m \u001b[39mlen\u001b[39m(variable_count) \u001b[39m==\u001b[39m \u001b[39m0\u001b[39m:\n",
      "\u001b[0;31mValueError\u001b[0m: \nCan't calculate derivative wrt 1/(exp(-b - w1*x1 - w2*x2 - w3*x3) +\n1)."
     ]
    }
   ],
   "source": [
    "from sympy import symbols, diff, exp, log, simplify\n",
    "\n",
    "# Declare symbols\n",
    "y, a, Z, w1, w2, w3, x1, x2, x3, b = symbols('y a Z w1 w2 w3 x1 x2 x3 b')\n",
    "\n",
    "# Define Loss Function (Cross-Entropy)\n",
    "L = -y * log(a) - (1 - y) * log(1 - a)\n",
    "\n",
    "# Define Z in terms of w1, w2, w3, x1, x2, x3, and b\n",
    "Z = w1 * x1 + w2 * x2 + w3 * x3 + b\n",
    "\n",
    "# Define a in terms of Z (Sigmoid function)\n",
    "a = 1 / (1 + exp(-Z))\n",
    "\n",
    "# Differentiate L with respect to a\n",
    "dL_da = diff(L, a)\n",
    "\n",
    "# Differentiate a in terms of Z (Derivative of Sigmoid)\n",
    "da_dZ = diff(a, Z)\n",
    "\n",
    "# Compute dL/dZ using chain rule\n",
    "dL_dZ = simplify(dL_da * da_dZ)\n",
    "\n",
    "# Differentiate Z with respect to w1, w2, w3, and b\n",
    "dZ_dw1 = diff(Z, w1)\n",
    "dZ_dw2 = diff(Z, w2)\n",
    "dZ_dw3 = diff(Z, w3)\n",
    "dZ_db = diff(Z, b)\n",
    "\n",
    "# Compute gradient with respect to w1, w2, w3, and b using chain rule\n",
    "dw1 = dZ_dw1 * dL_dZ\n",
    "dw2 = dZ_dw2 * dL_dZ\n",
    "dw3 = dZ_dw3 * dL_dZ\n",
    "db = dZ_db * dL_dZ\n",
    "\n",
    "print(\"dL/dZ:\", dL_dZ)\n",
    "print(\"dw1:\", dw1)\n",
    "print(\"dw2:\", dw2)\n",
    "print(\"dw3:\", dw3)\n",
    "print(\"db:\", db)\n"
   ]
  },
  {
   "cell_type": "code",
   "execution_count": 5,
   "id": "73a3f8f1",
   "metadata": {},
   "outputs": [
    {
     "name": "stdout",
     "output_type": "stream",
     "text": [
      "Gradient with respect to w: [0.1537824  0.05303517]\n",
      "Gradient with respect to b: 0.6494514041852678\n"
     ]
    }
   ],
   "source": [
    "import numpy as np\n",
    "\n",
    "# Assuming we have some data for X, y, w, and b\n",
    "X = np.array([[0.1, 0.2], [0.4, 0.5], [0.5, 0.3]])  # shape (3, 2)\n",
    "y = np.array([0, 1, 0])  # shape (3,)\n",
    "w = np.array([0.1, 0.2])  # shape (2,)\n",
    "b = 0.1  # scalar\n",
    "\n",
    "# Forward pass to compute Z and a\n",
    "Z = np.dot(X, w) + b  # shape (3,)\n",
    "a = 1 / (1 + np.exp(-Z))  # shape (3,)\n",
    "\n",
    "# Compute derivatives\n",
    "dL_dZ = a - y  # shape (3,)\n",
    "dZ_dw = X  # shape (3, 2)\n",
    "dZ_db = 1  # scalar\n",
    "\n",
    "# Compute gradient with respect to w and b\n",
    "dL_dw = np.dot(dL_dZ, dZ_dw)  # shape (2,)\n",
    "dL_db = np.sum(dL_dZ * dZ_db)  # scalar\n",
    "\n",
    "print(\"Gradient with respect to w:\", dL_dw)\n",
    "print(\"Gradient with respect to b:\", dL_db)\n"
   ]
  },
  {
   "cell_type": "code",
   "execution_count": 8,
   "id": "f9d9b5da",
   "metadata": {},
   "outputs": [
    {
     "name": "stdout",
     "output_type": "stream",
     "text": [
      "0\n",
      "dL/dZ = -y*exp(-Z)/(1 + exp(-Z)) + (1 - y)*exp(-Z)/((1 - 1/(1 + exp(-Z)))*(1 + exp(-Z))**2)\n",
      "dL/dw1 = 0\n",
      "dL/db = 0\n"
     ]
    }
   ],
   "source": [
    "from sympy import symbols, diff, log, exp\n",
    "\n",
    "# Define symbols\n",
    "w1, x1, b, y = symbols('w1 x1 b y')\n",
    "Z = symbols('Z')\n",
    "\n",
    "# Define equations\n",
    "a = 1 / (1 + exp(-Z))  # Sigmoid function\n",
    "L = -y * log(a) - (1 - y) * log(1 - a)  # Binary Cross-Entropy Loss\n",
    "\n",
    "# Substitute the sigmoid function into the loss function\n",
    "L_sub = L.subs(a, 1 / (1 + exp(-Z)))\n",
    "\n",
    "# Differentiate L with respect to Z\n",
    "dL_dZ = diff(L_sub, Z)\n",
    "\n",
    "# Differentiate Z with respect to w1 and b\n",
    "dZ_dw1 = diff(Z, w1)\n",
    "dZ_db = diff(Z, b)\n",
    "print(dZ_dw1)\n",
    "# Compute gradient with respect to w1 and b using the chain rule\n",
    "dL_dw1 = dL_dZ * dZ_dw1\n",
    "dL_db = dL_dZ * dZ_db\n",
    "\n",
    "print(\"dL/dZ =\", dL_dZ)\n",
    "print(\"dL/dw1 =\", dL_dw1)\n",
    "print(\"dL/db =\", dL_db)\n"
   ]
  },
  {
   "cell_type": "code",
   "execution_count": 10,
   "id": "21ee9fbb",
   "metadata": {},
   "outputs": [
    {
     "ename": "ValueError",
     "evalue": "\nCan't calculate derivative wrt 1/(exp(-b - w1*x1) + 1).",
     "output_type": "error",
     "traceback": [
      "\u001b[0;31m---------------------------------------------------------------------------\u001b[0m",
      "\u001b[0;31mValueError\u001b[0m                                Traceback (most recent call last)",
      "Cell \u001b[0;32mIn[10], line 12\u001b[0m\n\u001b[1;32m      8\u001b[0m L \u001b[39m=\u001b[39m \u001b[39m-\u001b[39my \u001b[39m*\u001b[39m log(a) \u001b[39m-\u001b[39m (\u001b[39m1\u001b[39m \u001b[39m-\u001b[39m y) \u001b[39m*\u001b[39m log(\u001b[39m1\u001b[39m \u001b[39m-\u001b[39m a)\n\u001b[1;32m     11\u001b[0m \u001b[39m# Differentiate L with respect to a\u001b[39;00m\n\u001b[0;32m---> 12\u001b[0m dL_da \u001b[39m=\u001b[39m diff(L, a)\n\u001b[1;32m     14\u001b[0m \u001b[39m# Differentiate L with respect to Z\u001b[39;00m\n\u001b[1;32m     15\u001b[0m dL_dZ \u001b[39m=\u001b[39m diff(L\u001b[39m.\u001b[39msubs(a, \u001b[39m1\u001b[39m \u001b[39m/\u001b[39m (\u001b[39m1\u001b[39m \u001b[39m+\u001b[39m exp(\u001b[39m-\u001b[39mZ))), Z)\n",
      "File \u001b[0;32m~/anaconda3/envs/sandbox/lib/python3.9/site-packages/sympy/core/function.py:2482\u001b[0m, in \u001b[0;36mdiff\u001b[0;34m(f, *symbols, **kwargs)\u001b[0m\n\u001b[1;32m   2418\u001b[0m \u001b[39m\u001b[39m\u001b[39m\"\"\"\u001b[39;00m\n\u001b[1;32m   2419\u001b[0m \u001b[39mDifferentiate f with respect to symbols.\u001b[39;00m\n\u001b[1;32m   2420\u001b[0m \n\u001b[0;32m   (...)\u001b[0m\n\u001b[1;32m   2479\u001b[0m \n\u001b[1;32m   2480\u001b[0m \u001b[39m\"\"\"\u001b[39;00m\n\u001b[1;32m   2481\u001b[0m \u001b[39mif\u001b[39;00m \u001b[39mhasattr\u001b[39m(f, \u001b[39m'\u001b[39m\u001b[39mdiff\u001b[39m\u001b[39m'\u001b[39m):\n\u001b[0;32m-> 2482\u001b[0m     \u001b[39mreturn\u001b[39;00m f\u001b[39m.\u001b[39;49mdiff(\u001b[39m*\u001b[39;49msymbols, \u001b[39m*\u001b[39;49m\u001b[39m*\u001b[39;49mkwargs)\n\u001b[1;32m   2483\u001b[0m kwargs\u001b[39m.\u001b[39msetdefault(\u001b[39m'\u001b[39m\u001b[39mevaluate\u001b[39m\u001b[39m'\u001b[39m, \u001b[39mTrue\u001b[39;00m)\n\u001b[1;32m   2484\u001b[0m \u001b[39mreturn\u001b[39;00m _derivative_dispatch(f, \u001b[39m*\u001b[39msymbols, \u001b[39m*\u001b[39m\u001b[39m*\u001b[39mkwargs)\n",
      "File \u001b[0;32m~/anaconda3/envs/sandbox/lib/python3.9/site-packages/sympy/core/expr.py:3586\u001b[0m, in \u001b[0;36mExpr.diff\u001b[0;34m(self, *symbols, **assumptions)\u001b[0m\n\u001b[1;32m   3584\u001b[0m \u001b[39mdef\u001b[39;00m \u001b[39mdiff\u001b[39m(\u001b[39mself\u001b[39m, \u001b[39m*\u001b[39msymbols, \u001b[39m*\u001b[39m\u001b[39m*\u001b[39massumptions):\n\u001b[1;32m   3585\u001b[0m     assumptions\u001b[39m.\u001b[39msetdefault(\u001b[39m\"\u001b[39m\u001b[39mevaluate\u001b[39m\u001b[39m\"\u001b[39m, \u001b[39mTrue\u001b[39;00m)\n\u001b[0;32m-> 3586\u001b[0m     \u001b[39mreturn\u001b[39;00m _derivative_dispatch(\u001b[39mself\u001b[39;49m, \u001b[39m*\u001b[39;49msymbols, \u001b[39m*\u001b[39;49m\u001b[39m*\u001b[39;49massumptions)\n",
      "File \u001b[0;32m~/anaconda3/envs/sandbox/lib/python3.9/site-packages/sympy/core/function.py:1909\u001b[0m, in \u001b[0;36m_derivative_dispatch\u001b[0;34m(expr, *variables, **kwargs)\u001b[0m\n\u001b[1;32m   1907\u001b[0m     \u001b[39mfrom\u001b[39;00m \u001b[39msympy\u001b[39;00m\u001b[39m.\u001b[39;00m\u001b[39mtensor\u001b[39;00m\u001b[39m.\u001b[39;00m\u001b[39marray\u001b[39;00m\u001b[39m.\u001b[39;00m\u001b[39marray_derivatives\u001b[39;00m \u001b[39mimport\u001b[39;00m ArrayDerivative\n\u001b[1;32m   1908\u001b[0m     \u001b[39mreturn\u001b[39;00m ArrayDerivative(expr, \u001b[39m*\u001b[39mvariables, \u001b[39m*\u001b[39m\u001b[39m*\u001b[39mkwargs)\n\u001b[0;32m-> 1909\u001b[0m \u001b[39mreturn\u001b[39;00m Derivative(expr, \u001b[39m*\u001b[39;49mvariables, \u001b[39m*\u001b[39;49m\u001b[39m*\u001b[39;49mkwargs)\n",
      "File \u001b[0;32m~/anaconda3/envs/sandbox/lib/python3.9/site-packages/sympy/core/function.py:1334\u001b[0m, in \u001b[0;36mDerivative.__new__\u001b[0;34m(cls, expr, *variables, **kwargs)\u001b[0m\n\u001b[1;32m   1332\u001b[0m     \u001b[39mif\u001b[39;00m \u001b[39mnot\u001b[39;00m v\u001b[39m.\u001b[39m_diff_wrt:\n\u001b[1;32m   1333\u001b[0m         __ \u001b[39m=\u001b[39m \u001b[39m'\u001b[39m\u001b[39m'\u001b[39m  \u001b[39m# filler to make error message neater\u001b[39;00m\n\u001b[0;32m-> 1334\u001b[0m         \u001b[39mraise\u001b[39;00m \u001b[39mValueError\u001b[39;00m(filldedent(\u001b[39m'''\u001b[39m\n\u001b[1;32m   1335\u001b[0m \u001b[39m            Can\u001b[39m\u001b[39m'\u001b[39m\u001b[39mt calculate derivative wrt \u001b[39m\u001b[39m%s\u001b[39;00m\u001b[39m.\u001b[39m\u001b[39m%s\u001b[39;00m\u001b[39m'''\u001b[39m \u001b[39m%\u001b[39m (v,\n\u001b[1;32m   1336\u001b[0m             __)))\n\u001b[1;32m   1338\u001b[0m \u001b[39m# We make a special case for 0th derivative, because there is no\u001b[39;00m\n\u001b[1;32m   1339\u001b[0m \u001b[39m# good way to unambiguously print this.\u001b[39;00m\n\u001b[1;32m   1340\u001b[0m \u001b[39mif\u001b[39;00m \u001b[39mlen\u001b[39m(variable_count) \u001b[39m==\u001b[39m \u001b[39m0\u001b[39m:\n",
      "\u001b[0;31mValueError\u001b[0m: \nCan't calculate derivative wrt 1/(exp(-b - w1*x1) + 1)."
     ]
    }
   ],
   "source": [
    "from sympy import symbols, diff, log, exp, simplify\n",
    "\n",
    "w1, x1, b, y, a, Z = symbols('w1 x1 b y a Z')\n",
    "\n",
    "\n",
    "Z = w1 * x1 + b\n",
    "a = 1 / (1 + exp(-Z))\n",
    "L = -y * log(a) - (1 - y) * log(1 - a)\n",
    "\n",
    "\n",
    "# Differentiate L with respect to a\n",
    "dL_da = diff(L, a)\n",
    "\n",
    "# Differentiate L with respect to Z\n",
    "dL_dZ = diff(L.subs(a, 1 / (1 + exp(-Z))), Z)\n",
    "\n",
    "# Differentiate Z with respect to w1 and b\n",
    "dZ_dw1 = diff(Z, w1)\n",
    "dZ_db = diff(Z, b)\n",
    "\n",
    "# Compute gradient with respect to w1 and b using the chain rule\n",
    "dL_dw1 = simplify(dL_dZ * dZ_dw1)\n",
    "dL_db = simplify(dL_dZ * dZ_db)\n",
    "\n",
    "print(\"dL/dZ =\", dL_dZ)\n",
    "print(\"dL/dw1 =\", dL_dw1)\n",
    "print(\"dL/db =\", dL_db)\n"
   ]
  },
  {
   "cell_type": "markdown",
   "metadata": {},
   "source": [
    "Evaluate the derivative at a few points by 'substituting' numeric values for the symbolic values. In the first example, $w$ is replaced by $2$."
   ]
  },
  {
   "cell_type": "code",
   "execution_count": 8,
   "id": "eab828e0",
   "metadata": {},
   "outputs": [
    {
     "data": {
      "text/latex": [
       "$\\displaystyle 4$"
      ],
      "text/plain": [
       "4"
      ]
     },
     "execution_count": 8,
     "metadata": {},
     "output_type": "execute_result"
    }
   ],
   "source": [
    "dJ_dw.subs([(w,2)])    # derivative at the point w = 2"
   ]
  },
  {
   "cell_type": "code",
   "execution_count": 9,
   "id": "1f47446b",
   "metadata": {
    "scrolled": true
   },
   "outputs": [
    {
     "data": {
      "text/latex": [
       "$\\displaystyle 6$"
      ],
      "text/plain": [
       "6"
      ]
     },
     "execution_count": 9,
     "metadata": {},
     "output_type": "execute_result"
    }
   ],
   "source": [
    "dJ_dw.subs([(w,3)])    # derivative at the point w = 3"
   ]
  },
  {
   "cell_type": "code",
   "execution_count": 10,
   "id": "f7bfd5eb",
   "metadata": {},
   "outputs": [
    {
     "data": {
      "text/latex": [
       "$\\displaystyle -6$"
      ],
      "text/plain": [
       "-6"
      ]
     },
     "execution_count": 10,
     "metadata": {},
     "output_type": "execute_result"
    }
   ],
   "source": [
    "dJ_dw.subs([(w,-3)])    # derivative at the point w = -3"
   ]
  },
  {
   "cell_type": "markdown",
   "metadata": {},
   "source": [
    "## $J = 2w$"
   ]
  },
  {
   "cell_type": "code",
   "execution_count": 11,
   "id": "201209f1",
   "metadata": {
    "tags": []
   },
   "outputs": [],
   "source": [
    "w, J = symbols('w, J')"
   ]
  },
  {
   "cell_type": "code",
   "execution_count": 12,
   "id": "1ce9d1cb",
   "metadata": {},
   "outputs": [
    {
     "data": {
      "text/latex": [
       "$\\displaystyle 2 w$"
      ],
      "text/plain": [
       "2*w"
      ]
     },
     "execution_count": 12,
     "metadata": {},
     "output_type": "execute_result"
    }
   ],
   "source": [
    "J = 2 * w\n",
    "J"
   ]
  },
  {
   "cell_type": "code",
   "execution_count": 13,
   "id": "ebb15e66",
   "metadata": {
    "tags": []
   },
   "outputs": [
    {
     "data": {
      "text/latex": [
       "$\\displaystyle 2$"
      ],
      "text/plain": [
       "2"
      ]
     },
     "execution_count": 13,
     "metadata": {},
     "output_type": "execute_result"
    }
   ],
   "source": [
    "dJ_dw = diff(J,w)\n",
    "dJ_dw"
   ]
  },
  {
   "cell_type": "code",
   "execution_count": 15,
   "id": "2108c958",
   "metadata": {},
   "outputs": [
    {
     "data": {
      "text/latex": [
       "$\\displaystyle 2$"
      ],
      "text/plain": [
       "2"
      ]
     },
     "execution_count": 15,
     "metadata": {},
     "output_type": "execute_result"
    }
   ],
   "source": [
    "dJ_dw.subs([(w,-3)])    # derivative at the point w = -3"
   ]
  },
  {
   "cell_type": "markdown",
   "metadata": {},
   "source": [
    "Compare this with the arithmetic calculation"
   ]
  },
  {
   "cell_type": "code",
   "execution_count": 16,
   "id": "96379dcb",
   "metadata": {},
   "outputs": [
    {
     "name": "stdout",
     "output_type": "stream",
     "text": [
      "J = 6, J_epsilon = 6.002, dJ_dw ~= k = 1.9999999999997797 \n"
     ]
    }
   ],
   "source": [
    "J = 2*3\n",
    "J_epsilon = 2*(3 + 0.001)\n",
    "k = (J_epsilon - J)/0.001\n",
    "print(f\"J = {J}, J_epsilon = {J_epsilon}, dJ_dw ~= k = {k} \")"
   ]
  },
  {
   "cell_type": "markdown",
   "metadata": {},
   "source": [
    "For the function $J=2w$, it is easy to see that any change in $w$ will result in 2 times that amount of change in the output $J$, regardless of the starting value of $w$. Our NumPy and arithmetic results confirm this. "
   ]
  },
  {
   "cell_type": "markdown",
   "metadata": {},
   "source": [
    "## $J = w^3$"
   ]
  },
  {
   "cell_type": "code",
   "execution_count": 17,
   "id": "748e5b27",
   "metadata": {},
   "outputs": [],
   "source": [
    "J, w = symbols('J, w')"
   ]
  },
  {
   "cell_type": "code",
   "execution_count": 18,
   "id": "8f62f212",
   "metadata": {},
   "outputs": [
    {
     "data": {
      "text/latex": [
       "$\\displaystyle w^{3}$"
      ],
      "text/plain": [
       "w**3"
      ]
     },
     "execution_count": 18,
     "metadata": {},
     "output_type": "execute_result"
    }
   ],
   "source": [
    "J=w**3\n",
    "J"
   ]
  },
  {
   "cell_type": "code",
   "execution_count": 19,
   "id": "8e218bdd",
   "metadata": {},
   "outputs": [
    {
     "data": {
      "text/latex": [
       "$\\displaystyle 3 w^{2}$"
      ],
      "text/plain": [
       "3*w**2"
      ]
     },
     "execution_count": 19,
     "metadata": {},
     "output_type": "execute_result"
    }
   ],
   "source": [
    "dJ_dw = diff(J,w)\n",
    "dJ_dw"
   ]
  },
  {
   "cell_type": "code",
   "execution_count": 20,
   "id": "a67e81d1",
   "metadata": {},
   "outputs": [
    {
     "data": {
      "text/latex": [
       "$\\displaystyle 12$"
      ],
      "text/plain": [
       "12"
      ]
     },
     "execution_count": 20,
     "metadata": {},
     "output_type": "execute_result"
    }
   ],
   "source": [
    "dJ_dw.subs([(w,2)])   # derivative at the point w=2"
   ]
  },
  {
   "cell_type": "markdown",
   "id": "2c510c04",
   "metadata": {},
   "source": [
    "Compare this with the arithmetic calculation"
   ]
  },
  {
   "cell_type": "code",
   "execution_count": 21,
   "id": "903a1929",
   "metadata": {},
   "outputs": [
    {
     "name": "stdout",
     "output_type": "stream",
     "text": [
      "J = 8, J_epsilon = 8.012006000999998, dJ_dw ~= k = 12.006000999997823 \n"
     ]
    }
   ],
   "source": [
    "J = (2)**3\n",
    "J_epsilon = (2+0.001)**3\n",
    "k = (J_epsilon - J)/0.001\n",
    "print(f\"J = {J}, J_epsilon = {J_epsilon}, dJ_dw ~= k = {k} \")"
   ]
  },
  {
   "cell_type": "markdown",
   "id": "79d8c0b4",
   "metadata": {},
   "source": [
    "## $J = \\frac{1}{w}$"
   ]
  },
  {
   "cell_type": "code",
   "execution_count": null,
   "id": "3bcba7a7",
   "metadata": {},
   "outputs": [],
   "source": [
    "J, w = symbols('J, w')"
   ]
  },
  {
   "cell_type": "code",
   "execution_count": 23,
   "id": "3f30798d",
   "metadata": {},
   "outputs": [
    {
     "data": {
      "text/latex": [
       "$\\displaystyle \\frac{1}{w}$"
      ],
      "text/plain": [
       "1/w"
      ]
     },
     "execution_count": 23,
     "metadata": {},
     "output_type": "execute_result"
    }
   ],
   "source": [
    "J= 1/w\n",
    "J"
   ]
  },
  {
   "cell_type": "code",
   "execution_count": 24,
   "id": "44b5d86b",
   "metadata": {},
   "outputs": [
    {
     "data": {
      "text/latex": [
       "$\\displaystyle - \\frac{1}{w^{2}}$"
      ],
      "text/plain": [
       "-1/w**2"
      ]
     },
     "execution_count": 24,
     "metadata": {},
     "output_type": "execute_result"
    }
   ],
   "source": [
    "dJ_dw = diff(J,w)\n",
    "dJ_dw"
   ]
  },
  {
   "cell_type": "code",
   "execution_count": 25,
   "id": "f054f015",
   "metadata": {},
   "outputs": [
    {
     "data": {
      "text/latex": [
       "$\\displaystyle - \\frac{1}{4}$"
      ],
      "text/plain": [
       "-1/4"
      ]
     },
     "execution_count": 25,
     "metadata": {},
     "output_type": "execute_result"
    }
   ],
   "source": [
    "dJ_dw.subs([(w,2)])"
   ]
  },
  {
   "cell_type": "markdown",
   "id": "10bd20b3",
   "metadata": {},
   "source": [
    "Compare this with the arithmetic calculation"
   ]
  },
  {
   "cell_type": "code",
   "execution_count": null,
   "id": "b96e5f18",
   "metadata": {},
   "outputs": [],
   "source": [
    "J = 1/2\n",
    "J_epsilon = 1/(2+0.001)\n",
    "k = (J_epsilon - J)/0.001\n",
    "print(f\"J = {J}, J_epsilon = {J_epsilon}, dJ_dw ~= k = {k} \")"
   ]
  },
  {
   "cell_type": "markdown",
   "metadata": {},
   "source": [
    "## $J = \\frac{1}{w^2}$"
   ]
  },
  {
   "cell_type": "code",
   "execution_count": 27,
   "id": "490bde05",
   "metadata": {},
   "outputs": [],
   "source": [
    "J, w = symbols('J, w')"
   ]
  },
  {
   "cell_type": "markdown",
   "metadata": {},
   "source": [
    "If you have time, try to repeat the above steps on the function  $J = \\frac{1}{w^2}$ and evaluate at w=4"
   ]
  },
  {
   "cell_type": "code",
   "execution_count": null,
   "metadata": {},
   "outputs": [],
   "source": []
  },
  {
   "cell_type": "code",
   "execution_count": null,
   "metadata": {},
   "outputs": [],
   "source": []
  },
  {
   "cell_type": "code",
   "execution_count": null,
   "metadata": {},
   "outputs": [],
   "source": []
  },
  {
   "cell_type": "markdown",
   "metadata": {},
   "source": [
    "Compare this with the arithmetic calculation"
   ]
  },
  {
   "cell_type": "code",
   "execution_count": null,
   "metadata": {},
   "outputs": [],
   "source": [
    "J = 1/4**2\n",
    "J_epsilon = 1/(4+0.001)**2\n",
    "k = (J_epsilon - J)/0.001\n",
    "print(f\"J = {J}, J_epsilon = {J_epsilon}, dJ_dw ~= k = {k} \")"
   ]
  },
  {
   "cell_type": "markdown",
   "metadata": {},
   "source": [
    "<details>\n",
    "  <summary><font size=\"3\" color=\"darkgreen\"><b>Click for hints</b></font></summary>\n",
    "    \n",
    "```python \n",
    "J= 1/w**2\n",
    "dJ_dw = diff(J,w)\n",
    "dJ_dw.subs([(w,4)])\n",
    "```\n",
    "  \n",
    "\n",
    "</details>\n",
    "\n",
    "    \n"
   ]
  },
  {
   "cell_type": "markdown",
   "metadata": {},
   "source": [
    "## Congratulations!\n",
    "If you have run through the above examples, you understand a derivative describes the change in the output of a function that is a result of a small change in an input to that function. You also can use *SymPy* in python to find the symbolic derivative of functions."
   ]
  }
 ],
 "metadata": {
  "kernelspec": {
   "display_name": "sandbox",
   "language": "python",
   "name": "python3"
  },
  "language_info": {
   "codemirror_mode": {
    "name": "ipython",
    "version": 3
   },
   "file_extension": ".py",
   "mimetype": "text/x-python",
   "name": "python",
   "nbconvert_exporter": "python",
   "pygments_lexer": "ipython3",
   "version": "3.9.17"
  },
  "vscode": {
   "interpreter": {
    "hash": "75cbfe992e831883bebc34d351837a73fc44aae74ab7e2dffad989642b16aeb2"
   }
  }
 },
 "nbformat": 4,
 "nbformat_minor": 5
}
